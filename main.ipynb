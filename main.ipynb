{
 "cells": [
  {
   "cell_type": "code",
   "execution_count": 1,
   "metadata": {},
   "outputs": [],
   "source": [
    "import warnings\n",
    "warnings.simplefilter(action='ignore')\n",
    "\n",
    "from utils import data_handler,features_handler\n",
    "\n",
    "import pandas as pd\n",
    "import numpy as np\n",
    "\n",
    "from sklearn.neighbors import KNeighborsClassifier\n",
    "from sklearn.ensemble import RandomForestClassifier\n",
    "from sklearn.model_selection import train_test_split \n",
    "from sklearn.linear_model import LinearRegression,LogisticRegression\n",
    "\n",
    "np.random.seed(100)\n",
    "\n",
    "TEST_SIZE = 0.25\n",
    "SWITCH_SIZE = 0.50\n",
    "START_YEAR = 2014\n",
    "BASE_PATH = \"./tennis\""
   ]
  },
  {
   "cell_type": "markdown",
   "metadata": {},
   "source": [
    "# HANDLING DATA"
   ]
  },
  {
   "cell_type": "code",
   "execution_count": 2,
   "metadata": {},
   "outputs": [],
   "source": [
    "# in 2019 I deleted the data after Australian Open and Australian Open data is used for production\n",
    "# 2014 dataset contains data from 2013 too becouse of ATP500\n",
    "DATASET_PATHS=[]\n",
    "for i in range(START_YEAR,2020):\n",
    "    if i > 2003:\n",
    "        if i < 2013:\n",
    "            DATASET_PATHS.append(f\"{BASE_PATH}/{i}.xls\")\n",
    "        else:\n",
    "            DATASET_PATHS.append(f\"{BASE_PATH}/{i}.xlsx\")"
   ]
  },
  {
   "cell_type": "code",
   "execution_count": 3,
   "metadata": {},
   "outputs": [],
   "source": [
    "relevant_columns =[\n",
    "        \"Date\",\"Tournament\",\"Court\",\"Surface\",\n",
    "        \"Round\",\"Best of\",\"Winner\",\"Loser\",\n",
    "        \"WRank\",\"LRank\",\"LPts\",\"WPts\",\"Series\",\n",
    "        \"AvgL\",\"AvgW\"\n",
    "]   "
   ]
  },
  {
   "cell_type": "code",
   "execution_count": 4,
   "metadata": {
    "scrolled": true
   },
   "outputs": [
    {
     "data": {
      "text/html": [
       "<div>\n",
       "<style scoped>\n",
       "    .dataframe tbody tr th:only-of-type {\n",
       "        vertical-align: middle;\n",
       "    }\n",
       "\n",
       "    .dataframe tbody tr th {\n",
       "        vertical-align: top;\n",
       "    }\n",
       "\n",
       "    .dataframe thead th {\n",
       "        text-align: right;\n",
       "    }\n",
       "</style>\n",
       "<table border=\"1\" class=\"dataframe\">\n",
       "  <thead>\n",
       "    <tr style=\"text-align: right;\">\n",
       "      <th></th>\n",
       "      <th>ATP</th>\n",
       "      <th>AvgL</th>\n",
       "      <th>AvgW</th>\n",
       "      <th>B365L</th>\n",
       "      <th>B365W</th>\n",
       "      <th>Best of</th>\n",
       "      <th>Comment</th>\n",
       "      <th>Court</th>\n",
       "      <th>Date</th>\n",
       "      <th>EXL</th>\n",
       "      <th>...</th>\n",
       "      <th>Tournament</th>\n",
       "      <th>W1</th>\n",
       "      <th>W2</th>\n",
       "      <th>W3</th>\n",
       "      <th>W4</th>\n",
       "      <th>W5</th>\n",
       "      <th>WPts</th>\n",
       "      <th>WRank</th>\n",
       "      <th>Winner</th>\n",
       "      <th>Wsets</th>\n",
       "    </tr>\n",
       "  </thead>\n",
       "  <tbody>\n",
       "    <tr>\n",
       "      <td>0</td>\n",
       "      <td>1</td>\n",
       "      <td>1.94</td>\n",
       "      <td>1.82</td>\n",
       "      <td>2.00</td>\n",
       "      <td>1.72</td>\n",
       "      <td>3</td>\n",
       "      <td>Completed</td>\n",
       "      <td>Outdoor</td>\n",
       "      <td>2013-12-30</td>\n",
       "      <td>2.00</td>\n",
       "      <td>...</td>\n",
       "      <td>Brisbane International</td>\n",
       "      <td>5.0</td>\n",
       "      <td>6.0</td>\n",
       "      <td>7.0</td>\n",
       "      <td>NaN</td>\n",
       "      <td>NaN</td>\n",
       "      <td>774.0</td>\n",
       "      <td>61.0</td>\n",
       "      <td>Matosevic M.</td>\n",
       "      <td>2.0</td>\n",
       "    </tr>\n",
       "    <tr>\n",
       "      <td>1</td>\n",
       "      <td>1</td>\n",
       "      <td>3.32</td>\n",
       "      <td>1.32</td>\n",
       "      <td>3.50</td>\n",
       "      <td>1.28</td>\n",
       "      <td>3</td>\n",
       "      <td>Completed</td>\n",
       "      <td>Outdoor</td>\n",
       "      <td>2013-12-30</td>\n",
       "      <td>3.20</td>\n",
       "      <td>...</td>\n",
       "      <td>Brisbane International</td>\n",
       "      <td>6.0</td>\n",
       "      <td>6.0</td>\n",
       "      <td>NaN</td>\n",
       "      <td>NaN</td>\n",
       "      <td>NaN</td>\n",
       "      <td>1090.0</td>\n",
       "      <td>39.0</td>\n",
       "      <td>Nieminen J.</td>\n",
       "      <td>2.0</td>\n",
       "    </tr>\n",
       "    <tr>\n",
       "      <td>2</td>\n",
       "      <td>1</td>\n",
       "      <td>2.93</td>\n",
       "      <td>1.39</td>\n",
       "      <td>3.00</td>\n",
       "      <td>1.36</td>\n",
       "      <td>3</td>\n",
       "      <td>Completed</td>\n",
       "      <td>Outdoor</td>\n",
       "      <td>2013-12-30</td>\n",
       "      <td>2.90</td>\n",
       "      <td>...</td>\n",
       "      <td>Brisbane International</td>\n",
       "      <td>6.0</td>\n",
       "      <td>7.0</td>\n",
       "      <td>6.0</td>\n",
       "      <td>NaN</td>\n",
       "      <td>NaN</td>\n",
       "      <td>1130.0</td>\n",
       "      <td>37.0</td>\n",
       "      <td>Cilic M.</td>\n",
       "      <td>2.0</td>\n",
       "    </tr>\n",
       "    <tr>\n",
       "      <td>3</td>\n",
       "      <td>1</td>\n",
       "      <td>1.83</td>\n",
       "      <td>1.92</td>\n",
       "      <td>1.80</td>\n",
       "      <td>1.90</td>\n",
       "      <td>3</td>\n",
       "      <td>Completed</td>\n",
       "      <td>Outdoor</td>\n",
       "      <td>2013-12-30</td>\n",
       "      <td>1.85</td>\n",
       "      <td>...</td>\n",
       "      <td>Brisbane International</td>\n",
       "      <td>7.0</td>\n",
       "      <td>6.0</td>\n",
       "      <td>NaN</td>\n",
       "      <td>NaN</td>\n",
       "      <td>NaN</td>\n",
       "      <td>960.0</td>\n",
       "      <td>46.0</td>\n",
       "      <td>Querrey S.</td>\n",
       "      <td>2.0</td>\n",
       "    </tr>\n",
       "    <tr>\n",
       "      <td>4</td>\n",
       "      <td>1</td>\n",
       "      <td>3.53</td>\n",
       "      <td>1.29</td>\n",
       "      <td>3.75</td>\n",
       "      <td>1.25</td>\n",
       "      <td>3</td>\n",
       "      <td>Completed</td>\n",
       "      <td>Outdoor</td>\n",
       "      <td>2013-12-30</td>\n",
       "      <td>3.40</td>\n",
       "      <td>...</td>\n",
       "      <td>Brisbane International</td>\n",
       "      <td>6.0</td>\n",
       "      <td>6.0</td>\n",
       "      <td>NaN</td>\n",
       "      <td>NaN</td>\n",
       "      <td>NaN</td>\n",
       "      <td>1520.0</td>\n",
       "      <td>23.0</td>\n",
       "      <td>Dimitrov G.</td>\n",
       "      <td>2.0</td>\n",
       "    </tr>\n",
       "  </tbody>\n",
       "</table>\n",
       "<p>5 rows × 42 columns</p>\n",
       "</div>"
      ],
      "text/plain": [
       "   ATP  AvgL  AvgW  B365L  B365W  Best of    Comment    Court       Date  \\\n",
       "0    1  1.94  1.82   2.00   1.72        3  Completed  Outdoor 2013-12-30   \n",
       "1    1  3.32  1.32   3.50   1.28        3  Completed  Outdoor 2013-12-30   \n",
       "2    1  2.93  1.39   3.00   1.36        3  Completed  Outdoor 2013-12-30   \n",
       "3    1  1.83  1.92   1.80   1.90        3  Completed  Outdoor 2013-12-30   \n",
       "4    1  3.53  1.29   3.75   1.25        3  Completed  Outdoor 2013-12-30   \n",
       "\n",
       "    EXL  ...              Tournament   W1   W2   W3  W4  W5    WPts  WRank  \\\n",
       "0  2.00  ...  Brisbane International  5.0  6.0  7.0 NaN NaN   774.0   61.0   \n",
       "1  3.20  ...  Brisbane International  6.0  6.0  NaN NaN NaN  1090.0   39.0   \n",
       "2  2.90  ...  Brisbane International  6.0  7.0  6.0 NaN NaN  1130.0   37.0   \n",
       "3  1.85  ...  Brisbane International  7.0  6.0  NaN NaN NaN   960.0   46.0   \n",
       "4  3.40  ...  Brisbane International  6.0  6.0  NaN NaN NaN  1520.0   23.0   \n",
       "\n",
       "         Winner  Wsets  \n",
       "0  Matosevic M.    2.0  \n",
       "1   Nieminen J.    2.0  \n",
       "2      Cilic M.    2.0  \n",
       "3    Querrey S.    2.0  \n",
       "4   Dimitrov G.    2.0  \n",
       "\n",
       "[5 rows x 42 columns]"
      ]
     },
     "execution_count": 4,
     "metadata": {},
     "output_type": "execute_result"
    }
   ],
   "source": [
    "# Read all the data from the specified years\n",
    "matches_data = pd.concat([pd.read_excel(f) for f in DATASET_PATHS], ignore_index=True,sort=True)\n",
    "matches_data.head()"
   ]
  },
  {
   "cell_type": "code",
   "execution_count": 5,
   "metadata": {
    "scrolled": true
   },
   "outputs": [
    {
     "name": "stdout",
     "output_type": "stream",
     "text": [
      "Finished renaming columns!\n",
      "Finish switching columns!\n",
      "Finish dealing with unwanted values!\n",
      "Finish dealing with non numerical values!\n",
      "Finish dealing with experience feature!\n",
      "Finish dealing with W/L feature!\n"
     ]
    }
   ],
   "source": [
    "# This takes some time (5 6 min)\n",
    "matches_data = data_handler(matches_data,relevant_columns)\n",
    "matches_data = features_handler(matches_data,matches_data)"
   ]
  },
  {
   "cell_type": "markdown",
   "metadata": {},
   "source": [
    "### Deal with the train/test data"
   ]
  },
  {
   "cell_type": "code",
   "execution_count": 6,
   "metadata": {},
   "outputs": [
    {
     "data": {
      "text/html": [
       "<div>\n",
       "<style scoped>\n",
       "    .dataframe tbody tr th:only-of-type {\n",
       "        vertical-align: middle;\n",
       "    }\n",
       "\n",
       "    .dataframe tbody tr th {\n",
       "        vertical-align: top;\n",
       "    }\n",
       "\n",
       "    .dataframe thead th {\n",
       "        text-align: right;\n",
       "    }\n",
       "</style>\n",
       "<table border=\"1\" class=\"dataframe\">\n",
       "  <thead>\n",
       "    <tr style=\"text-align: right;\">\n",
       "      <th></th>\n",
       "      <th>Date</th>\n",
       "      <th>Tournament</th>\n",
       "      <th>Court</th>\n",
       "      <th>Surface</th>\n",
       "      <th>Round</th>\n",
       "      <th>Best of</th>\n",
       "      <th>Series</th>\n",
       "      <th>P1_won</th>\n",
       "      <th>P1</th>\n",
       "      <th>P2</th>\n",
       "      <th>P1Rank</th>\n",
       "      <th>P2Rank</th>\n",
       "      <th>P1Pts</th>\n",
       "      <th>P2Pts</th>\n",
       "      <th>AvgP2</th>\n",
       "      <th>AvgP1</th>\n",
       "      <th>P1_Experince</th>\n",
       "      <th>P2_Experince</th>\n",
       "      <th>P1_W/L</th>\n",
       "      <th>P2_W/L</th>\n",
       "    </tr>\n",
       "  </thead>\n",
       "  <tbody>\n",
       "    <tr>\n",
       "      <td>0</td>\n",
       "      <td>2013-12-30</td>\n",
       "      <td>0</td>\n",
       "      <td>0</td>\n",
       "      <td>0</td>\n",
       "      <td>0</td>\n",
       "      <td>3</td>\n",
       "      <td>0</td>\n",
       "      <td>False</td>\n",
       "      <td>Benneteau J.</td>\n",
       "      <td>Matosevic M.</td>\n",
       "      <td>35.0</td>\n",
       "      <td>61.0</td>\n",
       "      <td>1160.0</td>\n",
       "      <td>774.0</td>\n",
       "      <td>1.94</td>\n",
       "      <td>1.82</td>\n",
       "      <td>0</td>\n",
       "      <td>0</td>\n",
       "      <td>100.0</td>\n",
       "      <td>100.0</td>\n",
       "    </tr>\n",
       "    <tr>\n",
       "      <td>1</td>\n",
       "      <td>2013-12-30</td>\n",
       "      <td>0</td>\n",
       "      <td>0</td>\n",
       "      <td>0</td>\n",
       "      <td>0</td>\n",
       "      <td>3</td>\n",
       "      <td>0</td>\n",
       "      <td>True</td>\n",
       "      <td>Nieminen J.</td>\n",
       "      <td>Duckworth J.</td>\n",
       "      <td>39.0</td>\n",
       "      <td>136.0</td>\n",
       "      <td>1090.0</td>\n",
       "      <td>425.0</td>\n",
       "      <td>3.32</td>\n",
       "      <td>1.32</td>\n",
       "      <td>0</td>\n",
       "      <td>0</td>\n",
       "      <td>100.0</td>\n",
       "      <td>100.0</td>\n",
       "    </tr>\n",
       "    <tr>\n",
       "      <td>2</td>\n",
       "      <td>2013-12-30</td>\n",
       "      <td>0</td>\n",
       "      <td>0</td>\n",
       "      <td>0</td>\n",
       "      <td>0</td>\n",
       "      <td>3</td>\n",
       "      <td>0</td>\n",
       "      <td>True</td>\n",
       "      <td>Cilic M.</td>\n",
       "      <td>Istomin D.</td>\n",
       "      <td>37.0</td>\n",
       "      <td>45.0</td>\n",
       "      <td>1130.0</td>\n",
       "      <td>965.0</td>\n",
       "      <td>2.93</td>\n",
       "      <td>1.39</td>\n",
       "      <td>0</td>\n",
       "      <td>0</td>\n",
       "      <td>100.0</td>\n",
       "      <td>100.0</td>\n",
       "    </tr>\n",
       "    <tr>\n",
       "      <td>3</td>\n",
       "      <td>2013-12-30</td>\n",
       "      <td>0</td>\n",
       "      <td>0</td>\n",
       "      <td>0</td>\n",
       "      <td>0</td>\n",
       "      <td>3</td>\n",
       "      <td>0</td>\n",
       "      <td>False</td>\n",
       "      <td>Tursunov D.</td>\n",
       "      <td>Querrey S.</td>\n",
       "      <td>29.0</td>\n",
       "      <td>46.0</td>\n",
       "      <td>1244.0</td>\n",
       "      <td>960.0</td>\n",
       "      <td>1.83</td>\n",
       "      <td>1.92</td>\n",
       "      <td>0</td>\n",
       "      <td>0</td>\n",
       "      <td>100.0</td>\n",
       "      <td>100.0</td>\n",
       "    </tr>\n",
       "    <tr>\n",
       "      <td>4</td>\n",
       "      <td>2013-12-30</td>\n",
       "      <td>0</td>\n",
       "      <td>0</td>\n",
       "      <td>0</td>\n",
       "      <td>0</td>\n",
       "      <td>3</td>\n",
       "      <td>0</td>\n",
       "      <td>True</td>\n",
       "      <td>Dimitrov G.</td>\n",
       "      <td>Haase R.</td>\n",
       "      <td>23.0</td>\n",
       "      <td>43.0</td>\n",
       "      <td>1520.0</td>\n",
       "      <td>977.0</td>\n",
       "      <td>3.53</td>\n",
       "      <td>1.29</td>\n",
       "      <td>0</td>\n",
       "      <td>0</td>\n",
       "      <td>100.0</td>\n",
       "      <td>100.0</td>\n",
       "    </tr>\n",
       "  </tbody>\n",
       "</table>\n",
       "</div>"
      ],
      "text/plain": [
       "        Date  Tournament  Court  Surface  Round  Best of  Series  P1_won  \\\n",
       "0 2013-12-30           0      0        0      0        3       0   False   \n",
       "1 2013-12-30           0      0        0      0        3       0    True   \n",
       "2 2013-12-30           0      0        0      0        3       0    True   \n",
       "3 2013-12-30           0      0        0      0        3       0   False   \n",
       "4 2013-12-30           0      0        0      0        3       0    True   \n",
       "\n",
       "             P1            P2  P1Rank  P2Rank   P1Pts  P2Pts  AvgP2  AvgP1  \\\n",
       "0  Benneteau J.  Matosevic M.    35.0    61.0  1160.0  774.0   1.94   1.82   \n",
       "1   Nieminen J.  Duckworth J.    39.0   136.0  1090.0  425.0   3.32   1.32   \n",
       "2      Cilic M.    Istomin D.    37.0    45.0  1130.0  965.0   2.93   1.39   \n",
       "3   Tursunov D.    Querrey S.    29.0    46.0  1244.0  960.0   1.83   1.92   \n",
       "4   Dimitrov G.      Haase R.    23.0    43.0  1520.0  977.0   3.53   1.29   \n",
       "\n",
       "   P1_Experince  P2_Experince  P1_W/L  P2_W/L  \n",
       "0             0             0   100.0   100.0  \n",
       "1             0             0   100.0   100.0  \n",
       "2             0             0   100.0   100.0  \n",
       "3             0             0   100.0   100.0  \n",
       "4             0             0   100.0   100.0  "
      ]
     },
     "execution_count": 6,
     "metadata": {},
     "output_type": "execute_result"
    }
   ],
   "source": [
    "matches_data.head()"
   ]
  },
  {
   "cell_type": "code",
   "execution_count": 7,
   "metadata": {},
   "outputs": [],
   "source": [
    "features = [\n",
    "    \"Tournament\",\"Court\",\n",
    "    \"Surface\",\"Round\",\n",
    "    \"Best of\",\"Series\",\n",
    "    \"P1Rank\",\"P2Rank\",\n",
    "    \"P1_Experince\",\"P2_Experince\",\n",
    "    \"P1_W/L\",\"P2_W/L\",\n",
    "    \"P1Pts\",\"P2Pts\",\n",
    "    \"AvgP1\",\"AvgP2\",\n",
    "]\n",
    "# mark the relevant features for train"
   ]
  },
  {
   "cell_type": "code",
   "execution_count": 8,
   "metadata": {},
   "outputs": [
    {
     "name": "stdout",
     "output_type": "stream",
     "text": [
      "Nr of training data:9948\n",
      "Nr of testing data:3317\n"
     ]
    }
   ],
   "source": [
    "# Split the test and train data \n",
    "X_train, X_test, y_train, y_test = train_test_split(matches_data[features], matches_data[\"P1_won\"], test_size = TEST_SIZE) \n",
    "print(f\"Nr of training data:{len(X_train)}\")\n",
    "print(f\"Nr of testing data:{len(X_test)}\")"
   ]
  },
  {
   "cell_type": "markdown",
   "metadata": {},
   "source": [
    "# RANDOM FOREST"
   ]
  },
  {
   "cell_type": "code",
   "execution_count": 9,
   "metadata": {},
   "outputs": [
    {
     "data": {
      "text/plain": [
       "RandomForestClassifier(bootstrap=True, ccp_alpha=0.0, class_weight=None,\n",
       "                       criterion='gini', max_depth=None, max_features='auto',\n",
       "                       max_leaf_nodes=None, max_samples=None,\n",
       "                       min_impurity_decrease=0.0, min_impurity_split=None,\n",
       "                       min_samples_leaf=1, min_samples_split=2,\n",
       "                       min_weight_fraction_leaf=0.0, n_estimators=100, n_jobs=2,\n",
       "                       oob_score=False, random_state=None, verbose=0,\n",
       "                       warm_start=False)"
      ]
     },
     "execution_count": 9,
     "metadata": {},
     "output_type": "execute_result"
    }
   ],
   "source": [
    "# Create the RandomForest Classifier with gini and fit the training data\n",
    "forest_gini = RandomForestClassifier(n_jobs=2,n_estimators=100,criterion = \"gini\")\n",
    "forest_gini.fit(X_train,y_train)"
   ]
  },
  {
   "cell_type": "code",
   "execution_count": 10,
   "metadata": {},
   "outputs": [
    {
     "data": {
      "text/plain": [
       "RandomForestClassifier(bootstrap=True, ccp_alpha=0.0, class_weight=None,\n",
       "                       criterion='entropy', max_depth=None, max_features='auto',\n",
       "                       max_leaf_nodes=None, max_samples=None,\n",
       "                       min_impurity_decrease=0.0, min_impurity_split=None,\n",
       "                       min_samples_leaf=1, min_samples_split=2,\n",
       "                       min_weight_fraction_leaf=0.0, n_estimators=100, n_jobs=2,\n",
       "                       oob_score=False, random_state=None, verbose=0,\n",
       "                       warm_start=False)"
      ]
     },
     "execution_count": 10,
     "metadata": {},
     "output_type": "execute_result"
    }
   ],
   "source": [
    "# Create the RandomForest Classifier with entropy and fit the training data\n",
    "forest_entropy = RandomForestClassifier(n_jobs=2,n_estimators=100,criterion = \"entropy\")\n",
    "forest_entropy.fit(X_train,y_train)"
   ]
  },
  {
   "cell_type": "code",
   "execution_count": 11,
   "metadata": {},
   "outputs": [
    {
     "name": "stdout",
     "output_type": "stream",
     "text": [
      "The score for the RandomForestClassifier with gini: 0.82363581549593\n",
      "The score for the RandomForestClassifier with entropy: 0.8203195658727767\n",
      "0.82363581549593\n"
     ]
    }
   ],
   "source": [
    "# Compares the 2 RandomForestClassifier and choses the best\n",
    "\n",
    "score_gini = forest_gini.score(X_test, y_test)\n",
    "score_entropy = forest_entropy.score(X_test, y_test)\n",
    "\n",
    "print(f\"The score for the RandomForestClassifier with gini: {score_gini}\")\n",
    "print(f\"The score for the RandomForestClassifier with entropy: {score_entropy}\")\n",
    "\n",
    "forest = forest_gini  if score_gini > score_entropy else forest_entropy\n",
    "\n",
    "print(forest.score(X_test, y_test))"
   ]
  },
  {
   "cell_type": "code",
   "execution_count": 12,
   "metadata": {},
   "outputs": [
    {
     "data": {
      "text/html": [
       "<div>\n",
       "<style scoped>\n",
       "    .dataframe tbody tr th:only-of-type {\n",
       "        vertical-align: middle;\n",
       "    }\n",
       "\n",
       "    .dataframe tbody tr th {\n",
       "        vertical-align: top;\n",
       "    }\n",
       "\n",
       "    .dataframe thead th {\n",
       "        text-align: right;\n",
       "    }\n",
       "</style>\n",
       "<table border=\"1\" class=\"dataframe\">\n",
       "  <thead>\n",
       "    <tr style=\"text-align: right;\">\n",
       "      <th>Predicted Wins</th>\n",
       "      <th>False</th>\n",
       "      <th>True</th>\n",
       "    </tr>\n",
       "    <tr>\n",
       "      <th>Actial Wins</th>\n",
       "      <th></th>\n",
       "      <th></th>\n",
       "    </tr>\n",
       "  </thead>\n",
       "  <tbody>\n",
       "    <tr>\n",
       "      <td>False</td>\n",
       "      <td>1351</td>\n",
       "      <td>288</td>\n",
       "    </tr>\n",
       "    <tr>\n",
       "      <td>True</td>\n",
       "      <td>297</td>\n",
       "      <td>1381</td>\n",
       "    </tr>\n",
       "  </tbody>\n",
       "</table>\n",
       "</div>"
      ],
      "text/plain": [
       "Predicted Wins  False  True \n",
       "Actial Wins                 \n",
       "False            1351    288\n",
       "True              297   1381"
      ]
     },
     "execution_count": 12,
     "metadata": {},
     "output_type": "execute_result"
    }
   ],
   "source": [
    "# Draw a little table to see the actual results\n",
    "preds = forest.predict(X_test)\n",
    "pd.crosstab(y_test, preds, rownames=['Actial Wins'],colnames=['Predicted Wins'])"
   ]
  },
  {
   "cell_type": "markdown",
   "metadata": {},
   "source": [
    "# REGRESION"
   ]
  },
  {
   "cell_type": "code",
   "execution_count": 13,
   "metadata": {},
   "outputs": [
    {
     "data": {
      "text/plain": [
       "LogisticRegression(C=1.0, class_weight=None, dual=False, fit_intercept=True,\n",
       "                   intercept_scaling=1, l1_ratio=None, max_iter=2000,\n",
       "                   multi_class='auto', n_jobs=None, penalty='l2',\n",
       "                   random_state=None, solver='lbfgs', tol=0.0001, verbose=0,\n",
       "                   warm_start=False)"
      ]
     },
     "execution_count": 13,
     "metadata": {},
     "output_type": "execute_result"
    }
   ],
   "source": [
    "# Adding regresion\n",
    "regr = LogisticRegression(max_iter=2000)\n",
    "\n",
    "regr.fit(X_train,y_train)"
   ]
  },
  {
   "cell_type": "code",
   "execution_count": 14,
   "metadata": {},
   "outputs": [
    {
     "data": {
      "text/plain": [
       "0.6499849261380766"
      ]
     },
     "execution_count": 14,
     "metadata": {},
     "output_type": "execute_result"
    }
   ],
   "source": [
    "regr.score(X_test, y_test)"
   ]
  },
  {
   "cell_type": "code",
   "execution_count": 15,
   "metadata": {},
   "outputs": [
    {
     "data": {
      "text/html": [
       "<div>\n",
       "<style scoped>\n",
       "    .dataframe tbody tr th:only-of-type {\n",
       "        vertical-align: middle;\n",
       "    }\n",
       "\n",
       "    .dataframe tbody tr th {\n",
       "        vertical-align: top;\n",
       "    }\n",
       "\n",
       "    .dataframe thead th {\n",
       "        text-align: right;\n",
       "    }\n",
       "</style>\n",
       "<table border=\"1\" class=\"dataframe\">\n",
       "  <thead>\n",
       "    <tr style=\"text-align: right;\">\n",
       "      <th>Predicted Wins</th>\n",
       "      <th>False</th>\n",
       "      <th>True</th>\n",
       "    </tr>\n",
       "    <tr>\n",
       "      <th>Actial Wins</th>\n",
       "      <th></th>\n",
       "      <th></th>\n",
       "    </tr>\n",
       "  </thead>\n",
       "  <tbody>\n",
       "    <tr>\n",
       "      <td>False</td>\n",
       "      <td>1089</td>\n",
       "      <td>550</td>\n",
       "    </tr>\n",
       "    <tr>\n",
       "      <td>True</td>\n",
       "      <td>611</td>\n",
       "      <td>1067</td>\n",
       "    </tr>\n",
       "  </tbody>\n",
       "</table>\n",
       "</div>"
      ],
      "text/plain": [
       "Predicted Wins  False  True \n",
       "Actial Wins                 \n",
       "False            1089    550\n",
       "True              611   1067"
      ]
     },
     "execution_count": 15,
     "metadata": {},
     "output_type": "execute_result"
    }
   ],
   "source": [
    "preds = regr.predict(X_test)\n",
    "pd.crosstab(y_test, preds, rownames=['Actial Wins'],colnames=['Predicted Wins'])"
   ]
  },
  {
   "cell_type": "markdown",
   "metadata": {},
   "source": [
    "# k-NN"
   ]
  },
  {
   "cell_type": "code",
   "execution_count": 16,
   "metadata": {},
   "outputs": [
    {
     "data": {
      "text/plain": [
       "KNeighborsClassifier(algorithm='auto', leaf_size=30, metric='minkowski',\n",
       "                     metric_params=None, n_jobs=None, n_neighbors=57, p=2,\n",
       "                     weights='uniform')"
      ]
     },
     "execution_count": 16,
     "metadata": {},
     "output_type": "execute_result"
    }
   ],
   "source": [
    "import math\n",
    "\n",
    "#  Chosing the k with the thumb rule\n",
    "\n",
    "neigh = KNeighborsClassifier(n_neighbors= int(math.sqrt(len(X_test))))\n",
    "neigh.fit(X_train,y_train)"
   ]
  },
  {
   "cell_type": "code",
   "execution_count": 17,
   "metadata": {},
   "outputs": [
    {
     "data": {
      "text/plain": [
       "0.6421465179378957"
      ]
     },
     "execution_count": 17,
     "metadata": {},
     "output_type": "execute_result"
    }
   ],
   "source": [
    "neigh.score(X_test, y_test)"
   ]
  },
  {
   "cell_type": "code",
   "execution_count": 18,
   "metadata": {},
   "outputs": [
    {
     "data": {
      "text/html": [
       "<div>\n",
       "<style scoped>\n",
       "    .dataframe tbody tr th:only-of-type {\n",
       "        vertical-align: middle;\n",
       "    }\n",
       "\n",
       "    .dataframe tbody tr th {\n",
       "        vertical-align: top;\n",
       "    }\n",
       "\n",
       "    .dataframe thead th {\n",
       "        text-align: right;\n",
       "    }\n",
       "</style>\n",
       "<table border=\"1\" class=\"dataframe\">\n",
       "  <thead>\n",
       "    <tr style=\"text-align: right;\">\n",
       "      <th>Predicted Wins</th>\n",
       "      <th>False</th>\n",
       "      <th>True</th>\n",
       "    </tr>\n",
       "    <tr>\n",
       "      <th>Actial Wins</th>\n",
       "      <th></th>\n",
       "      <th></th>\n",
       "    </tr>\n",
       "  </thead>\n",
       "  <tbody>\n",
       "    <tr>\n",
       "      <td>False</td>\n",
       "      <td>1065</td>\n",
       "      <td>574</td>\n",
       "    </tr>\n",
       "    <tr>\n",
       "      <td>True</td>\n",
       "      <td>613</td>\n",
       "      <td>1065</td>\n",
       "    </tr>\n",
       "  </tbody>\n",
       "</table>\n",
       "</div>"
      ],
      "text/plain": [
       "Predicted Wins  False  True \n",
       "Actial Wins                 \n",
       "False            1065    574\n",
       "True              613   1065"
      ]
     },
     "execution_count": 18,
     "metadata": {},
     "output_type": "execute_result"
    }
   ],
   "source": [
    "preds = neigh.predict(X_test)\n",
    "pd.crosstab(y_test, preds, rownames=['Actial Wins'],colnames=['Predicted Wins'])"
   ]
  },
  {
   "cell_type": "markdown",
   "metadata": {},
   "source": [
    "## Trying the classifiers score on the 2019 data (cheating)"
   ]
  },
  {
   "cell_type": "code",
   "execution_count": 19,
   "metadata": {},
   "outputs": [],
   "source": [
    "TEST_PATH = f\"{BASE_PATH}/FullAO.xlsx\"\n",
    "test_df = pd.concat([pd.read_excel(TEST_PATH)], ignore_index=True,sort=True)"
   ]
  },
  {
   "cell_type": "code",
   "execution_count": 20,
   "metadata": {},
   "outputs": [
    {
     "name": "stdout",
     "output_type": "stream",
     "text": [
      "Finished renaming columns!\n",
      "Finish switching columns!\n",
      "Finish dealing with unwanted values!\n",
      "Finish dealing with non numerical values!\n",
      "Finish dealing with experience feature!\n",
      "Finish dealing with W/L feature!\n"
     ]
    }
   ],
   "source": [
    "test_df = data_handler(test_df,relevant_columns)\n",
    "test_df = features_handler(test_df,matches_data)"
   ]
  },
  {
   "cell_type": "code",
   "execution_count": 21,
   "metadata": {},
   "outputs": [],
   "source": [
    "features = [\n",
    "    \"Tournament\",\"Court\",\n",
    "    \"Surface\",\"Round\",\n",
    "    \"Best of\",\"Series\",\n",
    "    \"P1Rank\",\"P2Rank\",\n",
    "    \"P1_Experince\",\"P2_Experince\",\n",
    "    \"P1_W/L\",\"P2_W/L\",\n",
    "    \"P1Pts\",\"P2Pts\",\n",
    "    \"AvgP1\",\"AvgP2\",\n",
    "]"
   ]
  },
  {
   "cell_type": "code",
   "execution_count": 22,
   "metadata": {},
   "outputs": [
    {
     "name": "stdout",
     "output_type": "stream",
     "text": [
      "The score for testing on the 2019 AO with LogisticRegression is: 0.7007874015748031 \n",
      "The score for testing on the 2019 AO with RandomForestClassifier is: 0.8110236220472441 \n",
      "The score for testing on the 2019 AO with k-NN is: 0.6692913385826772 \n"
     ]
    }
   ],
   "source": [
    "print(f\"The score for testing on the 2019 AO with LogisticRegression is: { regr.score(test_df[features], test_df['P1_won']) } \")\n",
    "print(f\"The score for testing on the 2019 AO with RandomForestClassifier is: { forest.score(test_df[features], test_df['P1_won']) } \")\n",
    "print(f\"The score for testing on the 2019 AO with k-NN is: { neigh.score(test_df[features], test_df['P1_won']) } \")"
   ]
  },
  {
   "cell_type": "markdown",
   "metadata": {},
   "source": [
    "## Chosing the best method"
   ]
  },
  {
   "cell_type": "code",
   "execution_count": 23,
   "metadata": {},
   "outputs": [
    {
     "data": {
      "text/html": [
       "<div>\n",
       "<style scoped>\n",
       "    .dataframe tbody tr th:only-of-type {\n",
       "        vertical-align: middle;\n",
       "    }\n",
       "\n",
       "    .dataframe tbody tr th {\n",
       "        vertical-align: top;\n",
       "    }\n",
       "\n",
       "    .dataframe thead th {\n",
       "        text-align: right;\n",
       "    }\n",
       "</style>\n",
       "<table border=\"1\" class=\"dataframe\">\n",
       "  <thead>\n",
       "    <tr style=\"text-align: right;\">\n",
       "      <th></th>\n",
       "      <th>Name</th>\n",
       "      <th>Score</th>\n",
       "    </tr>\n",
       "  </thead>\n",
       "  <tbody>\n",
       "    <tr>\n",
       "      <td>0</td>\n",
       "      <td>LogisticalRegression</td>\n",
       "      <td>0.649985</td>\n",
       "    </tr>\n",
       "    <tr>\n",
       "      <td>1</td>\n",
       "      <td>RandomForestClassifier</td>\n",
       "      <td>0.823636</td>\n",
       "    </tr>\n",
       "    <tr>\n",
       "      <td>2</td>\n",
       "      <td>k-NN</td>\n",
       "      <td>0.642147</td>\n",
       "    </tr>\n",
       "  </tbody>\n",
       "</table>\n",
       "</div>"
      ],
      "text/plain": [
       "                     Name     Score\n",
       "0    LogisticalRegression  0.649985\n",
       "1  RandomForestClassifier  0.823636\n",
       "2                    k-NN  0.642147"
      ]
     },
     "execution_count": 23,
     "metadata": {},
     "output_type": "execute_result"
    }
   ],
   "source": [
    "# We have the RandomForestClassifier the LogisticRegression and k NN\n",
    "score_list = [regr.score(X_test, y_test),forest.score(X_test, y_test),neigh.score(X_test, y_test)]\n",
    "\n",
    "pd.DataFrame.from_dict(\n",
    "    {\n",
    "        \"Name\":[\"LogisticalRegression\",\"RandomForestClassifier\",\"k-NN\"],\n",
    "        \"Score\":score_list\n",
    "    }\n",
    ")"
   ]
  },
  {
   "cell_type": "markdown",
   "metadata": {},
   "source": [
    "The choice is RandomForestClassifier with the best score"
   ]
  },
  {
   "cell_type": "markdown",
   "metadata": {},
   "source": [
    "# PREDICTION WITH BEST CLASSIFIER"
   ]
  },
  {
   "cell_type": "code",
   "execution_count": 24,
   "metadata": {},
   "outputs": [],
   "source": [
    "PROD_PATH = f\"{BASE_PATH}/Prod.xlsx\"\n",
    "prod_df = pd.concat([pd.read_excel(PROD_PATH)], ignore_index=True,sort=True)"
   ]
  },
  {
   "cell_type": "code",
   "execution_count": 25,
   "metadata": {},
   "outputs": [],
   "source": [
    "from utils import rename_columns"
   ]
  },
  {
   "cell_type": "code",
   "execution_count": 26,
   "metadata": {},
   "outputs": [
    {
     "name": "stdout",
     "output_type": "stream",
     "text": [
      "Finished renaming columns!\n",
      "Finish switching columns!\n",
      "Finish dealing with unwanted values!\n",
      "Finish dealing with non numerical values!\n",
      "Finish dealing with experience feature!\n",
      "Finish dealing with W/L feature!\n"
     ]
    }
   ],
   "source": [
    "# We apply the same as before but know P1_won will only be a switch criteria\n",
    "prod_df = data_handler(prod_df,relevant_columns)\n",
    "prod_df = features_handler(prod_df,matches_data)"
   ]
  },
  {
   "cell_type": "code",
   "execution_count": 27,
   "metadata": {},
   "outputs": [
    {
     "data": {
      "text/html": [
       "<div>\n",
       "<style scoped>\n",
       "    .dataframe tbody tr th:only-of-type {\n",
       "        vertical-align: middle;\n",
       "    }\n",
       "\n",
       "    .dataframe tbody tr th {\n",
       "        vertical-align: top;\n",
       "    }\n",
       "\n",
       "    .dataframe thead th {\n",
       "        text-align: right;\n",
       "    }\n",
       "</style>\n",
       "<table border=\"1\" class=\"dataframe\">\n",
       "  <thead>\n",
       "    <tr style=\"text-align: right;\">\n",
       "      <th></th>\n",
       "      <th>Date</th>\n",
       "      <th>Tournament</th>\n",
       "      <th>Court</th>\n",
       "      <th>Surface</th>\n",
       "      <th>Round</th>\n",
       "      <th>Best of</th>\n",
       "      <th>Series</th>\n",
       "      <th>P1_won</th>\n",
       "      <th>P1</th>\n",
       "      <th>P2</th>\n",
       "      <th>P1Rank</th>\n",
       "      <th>P2Rank</th>\n",
       "      <th>P1Pts</th>\n",
       "      <th>P2Pts</th>\n",
       "      <th>AvgP2</th>\n",
       "      <th>AvgP1</th>\n",
       "      <th>P1_Experince</th>\n",
       "      <th>P2_Experince</th>\n",
       "      <th>P1_W/L</th>\n",
       "      <th>P2_W/L</th>\n",
       "    </tr>\n",
       "  </thead>\n",
       "  <tbody>\n",
       "    <tr>\n",
       "      <td>0</td>\n",
       "      <td>2019-01-14</td>\n",
       "      <td>0</td>\n",
       "      <td>0</td>\n",
       "      <td>0</td>\n",
       "      <td>0</td>\n",
       "      <td>5</td>\n",
       "      <td>0</td>\n",
       "      <td>0</td>\n",
       "      <td>Anderson K.</td>\n",
       "      <td>Mannarino A.</td>\n",
       "      <td>6.0</td>\n",
       "      <td>42.0</td>\n",
       "      <td>4810.0</td>\n",
       "      <td>1045.0</td>\n",
       "      <td>9.96</td>\n",
       "      <td>1.06</td>\n",
       "      <td>295</td>\n",
       "      <td>267</td>\n",
       "      <td>58.602151</td>\n",
       "      <td>108.59375</td>\n",
       "    </tr>\n",
       "    <tr>\n",
       "      <td>1</td>\n",
       "      <td>2019-01-14</td>\n",
       "      <td>0</td>\n",
       "      <td>0</td>\n",
       "      <td>0</td>\n",
       "      <td>0</td>\n",
       "      <td>5</td>\n",
       "      <td>0</td>\n",
       "      <td>0</td>\n",
       "      <td>Basilashvili N.</td>\n",
       "      <td>Eubanks C.</td>\n",
       "      <td>20.0</td>\n",
       "      <td>170.0</td>\n",
       "      <td>1820.0</td>\n",
       "      <td>312.0</td>\n",
       "      <td>4.28</td>\n",
       "      <td>1.23</td>\n",
       "      <td>133</td>\n",
       "      <td>8</td>\n",
       "      <td>114.516129</td>\n",
       "      <td>300.00000</td>\n",
       "    </tr>\n",
       "    <tr>\n",
       "      <td>2</td>\n",
       "      <td>2019-01-14</td>\n",
       "      <td>0</td>\n",
       "      <td>0</td>\n",
       "      <td>0</td>\n",
       "      <td>0</td>\n",
       "      <td>5</td>\n",
       "      <td>0</td>\n",
       "      <td>0</td>\n",
       "      <td>Albot R.</td>\n",
       "      <td>Mmoh M.</td>\n",
       "      <td>98.0</td>\n",
       "      <td>107.0</td>\n",
       "      <td>585.0</td>\n",
       "      <td>526.0</td>\n",
       "      <td>1.72</td>\n",
       "      <td>2.14</td>\n",
       "      <td>85</td>\n",
       "      <td>21</td>\n",
       "      <td>226.923077</td>\n",
       "      <td>200.00000</td>\n",
       "    </tr>\n",
       "    <tr>\n",
       "      <td>3</td>\n",
       "      <td>2019-01-14</td>\n",
       "      <td>0</td>\n",
       "      <td>0</td>\n",
       "      <td>0</td>\n",
       "      <td>0</td>\n",
       "      <td>5</td>\n",
       "      <td>0</td>\n",
       "      <td>0</td>\n",
       "      <td>Andreozzi G.</td>\n",
       "      <td>Travaglia S.</td>\n",
       "      <td>77.0</td>\n",
       "      <td>137.0</td>\n",
       "      <td>708.0</td>\n",
       "      <td>401.0</td>\n",
       "      <td>2.82</td>\n",
       "      <td>1.44</td>\n",
       "      <td>17</td>\n",
       "      <td>15</td>\n",
       "      <td>183.333333</td>\n",
       "      <td>275.00000</td>\n",
       "    </tr>\n",
       "    <tr>\n",
       "      <td>4</td>\n",
       "      <td>2019-01-14</td>\n",
       "      <td>0</td>\n",
       "      <td>0</td>\n",
       "      <td>0</td>\n",
       "      <td>0</td>\n",
       "      <td>5</td>\n",
       "      <td>0</td>\n",
       "      <td>0</td>\n",
       "      <td>Verdasco F.</td>\n",
       "      <td>Kecmanovic M.</td>\n",
       "      <td>28.0</td>\n",
       "      <td>125.0</td>\n",
       "      <td>1410.0</td>\n",
       "      <td>458.0</td>\n",
       "      <td>2.72</td>\n",
       "      <td>1.47</td>\n",
       "      <td>268</td>\n",
       "      <td>4</td>\n",
       "      <td>88.732394</td>\n",
       "      <td>300.00000</td>\n",
       "    </tr>\n",
       "  </tbody>\n",
       "</table>\n",
       "</div>"
      ],
      "text/plain": [
       "        Date  Tournament  Court  Surface  Round  Best of  Series  P1_won  \\\n",
       "0 2019-01-14           0      0        0      0        5       0       0   \n",
       "1 2019-01-14           0      0        0      0        5       0       0   \n",
       "2 2019-01-14           0      0        0      0        5       0       0   \n",
       "3 2019-01-14           0      0        0      0        5       0       0   \n",
       "4 2019-01-14           0      0        0      0        5       0       0   \n",
       "\n",
       "                P1             P2  P1Rank  P2Rank   P1Pts   P2Pts  AvgP2  \\\n",
       "0      Anderson K.   Mannarino A.     6.0    42.0  4810.0  1045.0   9.96   \n",
       "1  Basilashvili N.     Eubanks C.    20.0   170.0  1820.0   312.0   4.28   \n",
       "2         Albot R.        Mmoh M.    98.0   107.0   585.0   526.0   1.72   \n",
       "3     Andreozzi G.   Travaglia S.    77.0   137.0   708.0   401.0   2.82   \n",
       "4      Verdasco F.  Kecmanovic M.    28.0   125.0  1410.0   458.0   2.72   \n",
       "\n",
       "   AvgP1  P1_Experince  P2_Experince      P1_W/L     P2_W/L  \n",
       "0   1.06           295           267   58.602151  108.59375  \n",
       "1   1.23           133             8  114.516129  300.00000  \n",
       "2   2.14            85            21  226.923077  200.00000  \n",
       "3   1.44            17            15  183.333333  275.00000  \n",
       "4   1.47           268             4   88.732394  300.00000  "
      ]
     },
     "execution_count": 27,
     "metadata": {},
     "output_type": "execute_result"
    }
   ],
   "source": [
    "#  Put P1_won back to 0 since it was only a switch criteria\n",
    "prod_df[\"P1_won\"] = [0 for i in range(len(prod_df))] \n",
    "prod_df.head()"
   ]
  },
  {
   "cell_type": "markdown",
   "metadata": {},
   "source": [
    "#### The following Australian Open Structure will be considerd\n",
    "- 1st Round: 64 matches\n",
    "- 2nd Round: 32 matches\n",
    "- 3rd Round: 16 matches\n",
    "- 4th Round: 8 matches\n",
    "- Quarterfinals: 4 matches\n",
    "- Semifinals: 2 matches\n",
    "- Final: 1 matches"
   ]
  },
  {
   "cell_type": "code",
   "execution_count": 28,
   "metadata": {},
   "outputs": [
    {
     "data": {
      "text/html": [
       "<div>\n",
       "<style scoped>\n",
       "    .dataframe tbody tr th:only-of-type {\n",
       "        vertical-align: middle;\n",
       "    }\n",
       "\n",
       "    .dataframe tbody tr th {\n",
       "        vertical-align: top;\n",
       "    }\n",
       "\n",
       "    .dataframe thead th {\n",
       "        text-align: right;\n",
       "    }\n",
       "</style>\n",
       "<table border=\"1\" class=\"dataframe\">\n",
       "  <thead>\n",
       "    <tr style=\"text-align: right;\">\n",
       "      <th></th>\n",
       "      <th>Date</th>\n",
       "      <th>Tournament</th>\n",
       "      <th>Court</th>\n",
       "      <th>Surface</th>\n",
       "      <th>Round</th>\n",
       "      <th>Best of</th>\n",
       "      <th>Series</th>\n",
       "      <th>P1_won</th>\n",
       "      <th>P1</th>\n",
       "      <th>P2</th>\n",
       "      <th>P1Rank</th>\n",
       "      <th>P2Rank</th>\n",
       "      <th>P1Pts</th>\n",
       "      <th>P2Pts</th>\n",
       "      <th>AvgP2</th>\n",
       "      <th>AvgP1</th>\n",
       "      <th>P1_Experince</th>\n",
       "      <th>P2_Experince</th>\n",
       "      <th>P1_W/L</th>\n",
       "      <th>P2_W/L</th>\n",
       "    </tr>\n",
       "  </thead>\n",
       "  <tbody>\n",
       "    <tr>\n",
       "      <td>0</td>\n",
       "      <td>2019-01-14</td>\n",
       "      <td>0</td>\n",
       "      <td>0</td>\n",
       "      <td>0</td>\n",
       "      <td>0</td>\n",
       "      <td>5</td>\n",
       "      <td>0</td>\n",
       "      <td>0</td>\n",
       "      <td>Anderson K.</td>\n",
       "      <td>Mannarino A.</td>\n",
       "      <td>6.0</td>\n",
       "      <td>42.0</td>\n",
       "      <td>4810.0</td>\n",
       "      <td>1045.0</td>\n",
       "      <td>9.96</td>\n",
       "      <td>1.06</td>\n",
       "      <td>295</td>\n",
       "      <td>267</td>\n",
       "      <td>58.602151</td>\n",
       "      <td>108.59375</td>\n",
       "    </tr>\n",
       "    <tr>\n",
       "      <td>1</td>\n",
       "      <td>2019-01-14</td>\n",
       "      <td>0</td>\n",
       "      <td>0</td>\n",
       "      <td>0</td>\n",
       "      <td>0</td>\n",
       "      <td>5</td>\n",
       "      <td>0</td>\n",
       "      <td>0</td>\n",
       "      <td>Basilashvili N.</td>\n",
       "      <td>Eubanks C.</td>\n",
       "      <td>20.0</td>\n",
       "      <td>170.0</td>\n",
       "      <td>1820.0</td>\n",
       "      <td>312.0</td>\n",
       "      <td>4.28</td>\n",
       "      <td>1.23</td>\n",
       "      <td>133</td>\n",
       "      <td>8</td>\n",
       "      <td>114.516129</td>\n",
       "      <td>300.00000</td>\n",
       "    </tr>\n",
       "    <tr>\n",
       "      <td>2</td>\n",
       "      <td>2019-01-14</td>\n",
       "      <td>0</td>\n",
       "      <td>0</td>\n",
       "      <td>0</td>\n",
       "      <td>0</td>\n",
       "      <td>5</td>\n",
       "      <td>0</td>\n",
       "      <td>0</td>\n",
       "      <td>Albot R.</td>\n",
       "      <td>Mmoh M.</td>\n",
       "      <td>98.0</td>\n",
       "      <td>107.0</td>\n",
       "      <td>585.0</td>\n",
       "      <td>526.0</td>\n",
       "      <td>1.72</td>\n",
       "      <td>2.14</td>\n",
       "      <td>85</td>\n",
       "      <td>21</td>\n",
       "      <td>226.923077</td>\n",
       "      <td>200.00000</td>\n",
       "    </tr>\n",
       "    <tr>\n",
       "      <td>3</td>\n",
       "      <td>2019-01-14</td>\n",
       "      <td>0</td>\n",
       "      <td>0</td>\n",
       "      <td>0</td>\n",
       "      <td>0</td>\n",
       "      <td>5</td>\n",
       "      <td>0</td>\n",
       "      <td>0</td>\n",
       "      <td>Andreozzi G.</td>\n",
       "      <td>Travaglia S.</td>\n",
       "      <td>77.0</td>\n",
       "      <td>137.0</td>\n",
       "      <td>708.0</td>\n",
       "      <td>401.0</td>\n",
       "      <td>2.82</td>\n",
       "      <td>1.44</td>\n",
       "      <td>17</td>\n",
       "      <td>15</td>\n",
       "      <td>183.333333</td>\n",
       "      <td>275.00000</td>\n",
       "    </tr>\n",
       "    <tr>\n",
       "      <td>4</td>\n",
       "      <td>2019-01-14</td>\n",
       "      <td>0</td>\n",
       "      <td>0</td>\n",
       "      <td>0</td>\n",
       "      <td>0</td>\n",
       "      <td>5</td>\n",
       "      <td>0</td>\n",
       "      <td>0</td>\n",
       "      <td>Verdasco F.</td>\n",
       "      <td>Kecmanovic M.</td>\n",
       "      <td>28.0</td>\n",
       "      <td>125.0</td>\n",
       "      <td>1410.0</td>\n",
       "      <td>458.0</td>\n",
       "      <td>2.72</td>\n",
       "      <td>1.47</td>\n",
       "      <td>268</td>\n",
       "      <td>4</td>\n",
       "      <td>88.732394</td>\n",
       "      <td>300.00000</td>\n",
       "    </tr>\n",
       "  </tbody>\n",
       "</table>\n",
       "</div>"
      ],
      "text/plain": [
       "        Date  Tournament  Court  Surface  Round  Best of  Series  P1_won  \\\n",
       "0 2019-01-14           0      0        0      0        5       0       0   \n",
       "1 2019-01-14           0      0        0      0        5       0       0   \n",
       "2 2019-01-14           0      0        0      0        5       0       0   \n",
       "3 2019-01-14           0      0        0      0        5       0       0   \n",
       "4 2019-01-14           0      0        0      0        5       0       0   \n",
       "\n",
       "                P1             P2  P1Rank  P2Rank   P1Pts   P2Pts  AvgP2  \\\n",
       "0      Anderson K.   Mannarino A.     6.0    42.0  4810.0  1045.0   9.96   \n",
       "1  Basilashvili N.     Eubanks C.    20.0   170.0  1820.0   312.0   4.28   \n",
       "2         Albot R.        Mmoh M.    98.0   107.0   585.0   526.0   1.72   \n",
       "3     Andreozzi G.   Travaglia S.    77.0   137.0   708.0   401.0   2.82   \n",
       "4      Verdasco F.  Kecmanovic M.    28.0   125.0  1410.0   458.0   2.72   \n",
       "\n",
       "   AvgP1  P1_Experince  P2_Experince      P1_W/L     P2_W/L  \n",
       "0   1.06           295           267   58.602151  108.59375  \n",
       "1   1.23           133             8  114.516129  300.00000  \n",
       "2   2.14            85            21  226.923077  200.00000  \n",
       "3   1.44            17            15  183.333333  275.00000  \n",
       "4   1.47           268             4   88.732394  300.00000  "
      ]
     },
     "execution_count": 28,
     "metadata": {},
     "output_type": "execute_result"
    }
   ],
   "source": [
    "features = [\n",
    "    \"Tournament\",\"Court\",\n",
    "    \"Surface\",\"Round\",\n",
    "    \"Best of\",\"Series\",\n",
    "    \"P1Rank\",\"P2Rank\",\n",
    "    \"P1_Experince\",\"P2_Experince\",\n",
    "    \"P1_W/L\",\"P2_W/L\",\n",
    "    \"P1Pts\",\"P2Pts\",\n",
    "    \"AvgP1\",\"AvgP2\",\n",
    "]\n",
    "\n",
    "results = [prod_df]\n",
    "results[0].head()"
   ]
  },
  {
   "cell_type": "code",
   "execution_count": 29,
   "metadata": {},
   "outputs": [],
   "source": [
    "def merge_rows(df,i,j):\n",
    "    new_row = {\n",
    "        \"Best of\" : [df.iloc[i][\"Best of\"]],\n",
    "        \"Court\" : [df.iloc[i][\"Court\"]],\n",
    "        \"Date\" : [df.iloc[i][\"Date\"]],\n",
    "        \"Round\" : [df.iloc[i][\"Round\"]],\n",
    "        \"Series\" : [df.iloc[i][\"Series\"]],\n",
    "        \"Surface\" : [df.iloc[i][\"Surface\"]],\n",
    "        \"Tournament\" : [df.iloc[i][\"Tournament\"]]\n",
    "    }\n",
    "    \n",
    "    if df.iloc[i][\"P1_won\"]:\n",
    "        winner = \"P1\"\n",
    "    else:\n",
    "        winner = \"P2\"\n",
    "    \n",
    "    new_row[\"P1\"] = [df.iloc[i][winner]]\n",
    "    new_row[\"P1Pts\"] = [df.iloc[i][winner+\"Pts\"]]\n",
    "    new_row[\"P1Rank\"] = [df.iloc[i][winner+\"Rank\"]]\n",
    "    new_row[\"P1_Experince\"] = [df.iloc[i][winner+\"_Experince\"]]\n",
    "    new_row[\"P1_W/L\"] = [df.iloc[i][winner+\"_W/L\"]]\n",
    "    new_row[\"AvgP1\"] = [df.iloc[i][\"Avg\"+winner]]\n",
    "    new_row[\"P1_won\"] = 0\n",
    "    \n",
    "    if df.iloc[j][\"P1_won\"]:\n",
    "        winner = \"P1\"\n",
    "    else:\n",
    "        winner = \"P2\"\n",
    "    \n",
    "    new_row[\"P2\"] = [df.iloc[j][winner]]\n",
    "    new_row[\"P2Pts\"] = [df.iloc[j][winner+\"Pts\"]]\n",
    "    new_row[\"P2Rank\"] = [df.iloc[j][winner+\"Rank\"]]\n",
    "    new_row[\"P2_Experince\"] = [df.iloc[j][winner+\"_Experince\"]]\n",
    "    new_row[\"P2_W/L\"] = [df.iloc[j][winner+\"_W/L\"]]\n",
    "    new_row[\"AvgP2\"] = [df.iloc[i][\"Avg\"+winner]]\n",
    "    return new_row\n",
    "        \n",
    "\n"
   ]
  },
  {
   "cell_type": "code",
   "execution_count": 30,
   "metadata": {},
   "outputs": [],
   "source": [
    "def simulate_round(df):\n",
    "    i=0\n",
    "    new_df = pd.DataFrame(columns=df.columns)\n",
    "    while i<len(df)-1:\n",
    "        new_df = new_df.append(pd.DataFrame(merge_rows(df,i,i+1)))\n",
    "        i += 2\n",
    "        \n",
    "    return new_df\n"
   ]
  },
  {
   "cell_type": "code",
   "execution_count": 31,
   "metadata": {},
   "outputs": [],
   "source": [
    "results = [prod_df]\n",
    "for i in range(6):\n",
    "    round_sim = simulate_round(results[-1])\n",
    "    round_sim[\"P1_won\"] = forest.predict(round_sim[features])\n",
    "    results.append(round_sim)\n",
    "    \n",
    "        "
   ]
  },
  {
   "cell_type": "markdown",
   "metadata": {},
   "source": [
    "### Matches\n"
   ]
  },
  {
   "cell_type": "markdown",
   "metadata": {},
   "source": [
    "### The indexes for the matches:\n",
    "- 1st Round: 0\n",
    "- 2nd Round: 1\n",
    "- 3rd Round: 2\n",
    "- 4th Round: 3\n",
    "- Quarterfinals: 4\n",
    "- Semifinals: 5\n",
    "- Final: 6"
   ]
  },
  {
   "cell_type": "code",
   "execution_count": 34,
   "metadata": {},
   "outputs": [
    {
     "data": {
      "text/html": [
       "<div>\n",
       "<style scoped>\n",
       "    .dataframe tbody tr th:only-of-type {\n",
       "        vertical-align: middle;\n",
       "    }\n",
       "\n",
       "    .dataframe tbody tr th {\n",
       "        vertical-align: top;\n",
       "    }\n",
       "\n",
       "    .dataframe thead th {\n",
       "        text-align: right;\n",
       "    }\n",
       "</style>\n",
       "<table border=\"1\" class=\"dataframe\">\n",
       "  <thead>\n",
       "    <tr style=\"text-align: right;\">\n",
       "      <th></th>\n",
       "      <th>AvgP1</th>\n",
       "      <th>AvgP2</th>\n",
       "      <th>Best of</th>\n",
       "      <th>Court</th>\n",
       "      <th>Date</th>\n",
       "      <th>P1</th>\n",
       "      <th>P1Pts</th>\n",
       "      <th>P1Rank</th>\n",
       "      <th>P1_Experince</th>\n",
       "      <th>P1_W/L</th>\n",
       "      <th>P1_won</th>\n",
       "      <th>P2</th>\n",
       "      <th>P2Pts</th>\n",
       "      <th>P2Rank</th>\n",
       "      <th>P2_Experince</th>\n",
       "      <th>P2_W/L</th>\n",
       "      <th>Round</th>\n",
       "      <th>Series</th>\n",
       "      <th>Surface</th>\n",
       "      <th>Tournament</th>\n",
       "    </tr>\n",
       "  </thead>\n",
       "  <tbody>\n",
       "    <tr>\n",
       "      <td>0</td>\n",
       "      <td>9.96</td>\n",
       "      <td>9.96</td>\n",
       "      <td>5</td>\n",
       "      <td>0</td>\n",
       "      <td>2019-01-14</td>\n",
       "      <td>Dimitrov G.</td>\n",
       "      <td>1790.0</td>\n",
       "      <td>21.0</td>\n",
       "      <td>301</td>\n",
       "      <td>52.791878</td>\n",
       "      <td>True</td>\n",
       "      <td>Zverev A.</td>\n",
       "      <td>6385.0</td>\n",
       "      <td>4.0</td>\n",
       "      <td>255</td>\n",
       "      <td>49.122807</td>\n",
       "      <td>0</td>\n",
       "      <td>0</td>\n",
       "      <td>0</td>\n",
       "      <td>0</td>\n",
       "    </tr>\n",
       "  </tbody>\n",
       "</table>\n",
       "</div>"
      ],
      "text/plain": [
       "   AvgP1  AvgP2 Best of Court       Date           P1   P1Pts  P1Rank  \\\n",
       "0   9.96   9.96       5     0 2019-01-14  Dimitrov G.  1790.0    21.0   \n",
       "\n",
       "  P1_Experince     P1_W/L  P1_won         P2   P2Pts  P2Rank P2_Experince  \\\n",
       "0          301  52.791878    True  Zverev A.  6385.0     4.0          255   \n",
       "\n",
       "      P2_W/L Round Series Surface Tournament  \n",
       "0  49.122807     0      0       0          0  "
      ]
     },
     "execution_count": 34,
     "metadata": {},
     "output_type": "execute_result"
    }
   ],
   "source": [
    "results[6]"
   ]
  },
  {
   "cell_type": "code",
   "execution_count": null,
   "metadata": {},
   "outputs": [],
   "source": []
  }
 ],
 "metadata": {
  "kernelspec": {
   "display_name": "Python 3",
   "language": "python",
   "name": "python3"
  },
  "language_info": {
   "codemirror_mode": {
    "name": "ipython",
    "version": 3
   },
   "file_extension": ".py",
   "mimetype": "text/x-python",
   "name": "python",
   "nbconvert_exporter": "python",
   "pygments_lexer": "ipython3",
   "version": "3.6.9"
  }
 },
 "nbformat": 4,
 "nbformat_minor": 2
}
